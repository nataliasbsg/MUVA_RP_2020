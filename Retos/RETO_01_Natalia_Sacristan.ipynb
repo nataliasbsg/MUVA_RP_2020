{
 "cells": [
  {
   "cell_type": "markdown",
   "metadata": {},
   "source": [
    "# RETO: *Ingeniería de características*\n",
    "\n",
    "+ El objetivo de este reto es extraer o diseñar un mejor par de características para construir un clasificador linear mediante regresión logística.\n",
    "+ Ejecuta todo el cuaderno y después lee las instrucciones del reto, abajo del todo.\n",
    "---\n",
    "    [ES] Código de Alfredo Cuesta Infante para 'Reconocimiento de Patrones'\n",
    "       @ Master Universitario en Visión Artificial, 2020, URJC (España)\n",
    "    [EN] Code by Alfredo Cuesta-Infante for 'Pattern Recognition'\n",
    "       @ Master of Computer Vision, 2020, URJC (Spain)\n",
    "\n",
    "    alfredo.cuesta@urjc.es"
   ]
  },
  {
   "cell_type": "code",
   "execution_count": 1,
   "metadata": {},
   "outputs": [],
   "source": [
    "# PONED VUESTROS NOMBRES EN ESTA LISTA \n",
    "nombres = ['Natalia Sacristan'] "
   ]
  },
  {
   "cell_type": "code",
   "execution_count": 2,
   "metadata": {},
   "outputs": [],
   "source": [
    "import numpy  as np\n",
    "import pandas as pd\n",
    "from matplotlib import pyplot as plt"
   ]
  },
  {
   "cell_type": "code",
   "execution_count": 3,
   "metadata": {},
   "outputs": [],
   "source": [
    "#-------------------------------#\n",
    "# Extracción de características #\n",
    "#-------------------------------#\n",
    "def feat_extraction (data, theta=0.1):\n",
    "    # data: dataframe\n",
    "    # theta: parameter of the feature extraction\n",
    "    # features extracted: \n",
    "    #   'width','W_max1','W_max2','W_max3',\n",
    "    #   'height','H_max1','H_max2','H_max3',\n",
    "    #   'area','w_vs_h'\n",
    "    #\n",
    "    features = np.zeros([data.shape[0], 11]) #<- allocate memory with zeros\n",
    "    data = data.values.reshape([data.shape[0],28,28]) \n",
    "    #-> axis 0: id of instance, axis 1: width(cols) , axis 2: height(rows)\n",
    "    for k in range(data.shape[0]):\n",
    "        \n",
    "        #..current image \n",
    "        x = data[k,:,:]\n",
    "        \n",
    "        #--width feature\n",
    "        sum_cols = x.sum(axis=0) #<- axis0 of x, not of data!!\n",
    "        indc = np.argwhere(sum_cols > theta * sum_cols.max())\n",
    "        col_3maxs = np.argsort(sum_cols)[-3:] \n",
    "        features[k,0] = indc[-1] - indc[0]\n",
    "        features[k,1:4] = col_3maxs\n",
    "        \n",
    "        #--height feature\n",
    "        sum_rows = x.sum(axis=1) #<- axis1 of x, not of data!!\n",
    "        indr = np.argwhere(sum_rows > theta * sum_rows.max())\n",
    "        features[k,4] = indr[-1] - indr[0]\n",
    "        row_3maxs = np.argsort(sum_rows)[-3:] \n",
    "        features[k,5:8] = row_3maxs\n",
    "        \n",
    "        #--breadth feature \n",
    "        index_row = round (0.5 * x.shape[0])\n",
    "        row = x[index_row,:] \n",
    "        index_values = np.argwhere(row > theta * row.max()) \n",
    "        breadth= index_values[-1] - index_values[0]\n",
    "        features[k,8] = breadth; \n",
    "        \n",
    "\n",
    "    \n",
    "    #--area\n",
    "    features[:,9] = features[:,0] * features[:,4] #Multiplica anchura por altura en todas las k (imagenes)\n",
    "    \n",
    "    #--ratio W/H    \n",
    "    features[:,10] = features[:,0] / features[:,4]\n",
    "    \n",
    "    col_names = ['width','W_max1','W_max2','W_max3','height','H_max1','H_max2','H_max3', 'breadth', 'area', 'w_vs_h']\n",
    "\n",
    "    return pd.DataFrame(features,columns = col_names) "
   ]
  },
  {
   "cell_type": "code",
   "execution_count": 4,
   "metadata": {},
   "outputs": [],
   "source": [
    "#---------------------#\n",
    "# Separacion de datos #\n",
    "#---------------------#\n",
    "def split_train_test(data, test_ratio):\n",
    "    shuffled_indices = np.random.permutation(len(data))\n",
    "    test_set_size = int(len(data) * test_ratio)\n",
    "    test_indices = shuffled_indices[:test_set_size]\n",
    "    train_indices = shuffled_indices[test_set_size:]\n",
    "    train_set = data.iloc[train_indices]\n",
    "    test_set  = data.iloc[test_indices]\n",
    "    return train_set.reset_index(drop=True), test_set.reset_index(drop=True)"
   ]
  },
  {
   "cell_type": "code",
   "execution_count": 5,
   "metadata": {},
   "outputs": [],
   "source": [
    "#------------------------------#\n",
    "# Algunas funciones auxiliares #\n",
    "#------------------------------#\n",
    "\n",
    "def join_features_labels(X0,X1):\n",
    "    Y0 = pd.DataFrame(np.zeros(X0.shape[0]),columns=['label'])\n",
    "    XY0 = pd.concat([X0,Y0],axis=1)\n",
    "    Y1 = pd.DataFrame(np.ones(X1.shape[0]),columns=['label'])\n",
    "    XY1 = pd.concat([X1,Y1],axis=1)\n",
    "    return pd.concat([XY0,XY1],axis=0,ignore_index=True)\n",
    "\n",
    "def jitter(X,sigma=0.2):\n",
    "    random_sign = (-1)**np.random.randint(1,3,*X.shape)\n",
    "    return X + np.random.normal(0,sigma,*X.shape)*random_sign"
   ]
  },
  {
   "cell_type": "code",
   "execution_count": 6,
   "metadata": {},
   "outputs": [],
   "source": [
    "#------------------------------#\n",
    "# Construcción de los datasets #\n",
    "#------------------------------#\n",
    "np.random.seed(seed=1234) #<- comment this to get randomness\n",
    "fraction_Test  = 0.2\n",
    "fraction_Valid = 0.2\n",
    "theta = 0.5\n",
    "\n",
    "# --- Get data -------------------------------------\n",
    "FullSet_0 = pd.read_csv('../../Datasets/1000ceros.csv', header=None)\n",
    "FullSet_1 = pd.read_csv('../../Datasets/1000unos.csv',  header=None)\n",
    "FullSet_0 = FullSet_0 /255. #<- quick rescale to [0,1]\n",
    "FullSet_1 = FullSet_1 /255. #<- quick rescale to [0,1]\n",
    "\n",
    "# --- Separate Test sets -----------------------------\n",
    "TrainSet_0, TestSet_0 = split_train_test(FullSet_0, fraction_Test)\n",
    "TrainSet_1, TestSet_1 = split_train_test(FullSet_1, fraction_Test)\n",
    "\n",
    "# --- Separate Validation sets -----------------------\n",
    "TrainSet_0, ValidSet_0 = split_train_test(TrainSet_0, fraction_Valid)\n",
    "TrainSet_1, ValidSet_1 = split_train_test(TrainSet_1, fraction_Valid)\n",
    "\n",
    "# --- Ensamble TRAIN SET, VALIDATION SET Y TEST SET --\n",
    "#          with the features and the labels\n",
    "Feat_train = join_features_labels(feat_extraction(TrainSet_0, theta=theta), \n",
    "                                  feat_extraction(TrainSet_1, theta=theta))\n",
    "Feat_valid = join_features_labels(feat_extraction(ValidSet_0, theta=theta),\n",
    "                                  feat_extraction(ValidSet_1, theta=theta))\n",
    "Feat_test  = join_features_labels(feat_extraction(TestSet_0,  theta=theta),\n",
    "                                  feat_extraction(TestSet_1,  theta=theta))"
   ]
  },
  {
   "cell_type": "code",
   "execution_count": 7,
   "metadata": {},
   "outputs": [
    {
     "name": "stdout",
     "output_type": "stream",
     "text": [
      "['Alfredo Cuesta', 'Geoffrey Hinton'] \n",
      "\n",
      "Outcome:\n",
      "  :) HIT  = 319, (99.69%)\n",
      "  :( FAIL = 1, (0.31%)\n",
      "\n",
      "Logistic regression model:\n",
      "  clf coef. =  [[-0.78345364 -0.78345364]]\n",
      "  clf intercept =  [11.46139358]\n"
     ]
    },
    {
     "data": {
      "image/png": "[encoded data removed]",
      "text/plain": [
       "<Figure size 432x288 with 1 Axes>"
      ]
     },
     "metadata": {
      "needs_background": "light"
     },
     "output_type": "display_data"
    }
   ],
   "source": [
    "#----------------------------#\n",
    "# Entrenamiento y evaluación #\n",
    "#----------------------------#\n",
    "\n",
    "#-[1].Select any 2 features from the list:\n",
    "#    -features list: 'width','W_max1','W_max2','W_max3','height','H_max1','H_max2','H_max3','area','w_vs_h'\n",
    "feat_1 = 'breadth'\n",
    "feat_2 = 'breadth'\n",
    "\n",
    "#-[2].Fit a LogisticRegression model (a linear classifier) with Feat_train dataframe\n",
    "from sklearn.linear_model import LogisticRegression\n",
    "clf = LogisticRegression()\n",
    "clf.fit(Feat_train[[feat_1, feat_2]], Feat_train['label'])\n",
    "\n",
    "#-[3].Predict the Feat_valid dataframe\n",
    "y_pred = clf.predict( Feat_valid[[feat_1, feat_2]] )\n",
    "\n",
    "#-[4].Compare the predictions with the ground truth\n",
    "from sklearn.metrics import confusion_matrix\n",
    "conf_mat = confusion_matrix(y_pred, Feat_valid['label'])\n",
    "N_success = conf_mat[0,0]+conf_mat[1,1]\n",
    "N_fails = conf_mat[0,1]+conf_mat[1,0]\n",
    "print (nombres,\"\\n\")\n",
    "print(\"Outcome:\")\n",
    "strlog = \"  :) HIT  = %d, (%0.2f%%)\"%(N_success, 100*N_success/(N_success+N_fails))\n",
    "print(strlog)\n",
    "strlog = \"  :( FAIL = %d, (%0.2f%%)\"%(N_fails, 100*N_fails/(N_success+N_fails))\n",
    "print(strlog)\n",
    "\n",
    "#-[5].Show the (linear) model parameters\n",
    "print(\"\\nLogistic regression model:\")\n",
    "print(\"  clf coef. = \",clf.coef_)\n",
    "print(\"  clf intercept = \",clf.intercept_)\n",
    "\n",
    "#-[6].Plot Feat_valid and the model\n",
    "ind = Feat_valid['label']==0\n",
    "x0, x1 = Feat_valid[ind][feat_1], Feat_valid[~ind][feat_1]\n",
    "y0, y1 = Feat_valid[ind][feat_2], Feat_valid[~ind][feat_2]\n",
    "plt.plot(jitter(x0),jitter(y0),'yo',jitter(x1),jitter(y1),'bx', alpha=.3)\n",
    "\n",
    "w = clf.coef_[0]\n",
    "a = -w[0] / w[1]\n",
    "xmin=min(x0.min(axis=0),x1.min(axis=0))\n",
    "xmax=max(x0.max(axis=0),x1.max(axis=0))\n",
    "ymin=min(y0.min(axis=0),y1.min(axis=0))\n",
    "ymax=max(y0.max(axis=0),y1.max(axis=0))\n",
    "xx = np.linspace(xmin,xmax)\n",
    "yy = a * xx - (clf.intercept_[0] / w[1])\n",
    "plt.plot(xx,yy,'r')\n",
    "strTitle = \"w_X = %2.2f, w_Y = %2.2f, w_0 = %2.2f \" % (w[0], w[1], clf.intercept_[0])\n",
    "plt.axis([xmin-1,xmax+1,ymin-1,ymax+1])\n",
    "plt.title(strTitle)\n",
    "plt.xlabel(feat_1)\n",
    "plt.ylabel(feat_2)\n",
    "plt.show()"
   ]
  },
  {
   "cell_type": "markdown",
   "metadata": {},
   "source": [
    "Este reto consiste en extraer o diseñar dos características que mejor separen linealmente los ceros de los unos. \n",
    "Para ello:\n",
    "+ Podeis modificar la funcion **feat_extraction** y el parámetro **theta**\n",
    "+ NO podeis modificar el método de aprendizaje\n",
    "+ NO podeis utilizar más de dos características para aprender el modelo.\n",
    "+ NO podeis modificar la semilla de números pseudoaleatorios (seed=1234)\n",
    "\n",
    "Una vez lo hayais hecho, debeis ejecutar todo el cuaderno (*Kernel $\\rightarrow$ Restart & Run all* ) para obtener el resultado en la celda de arriba.\n",
    "\n",
    "Por último, teneis que:\n",
    "1. Descargar el cuaderno ( *File* $\\rightarrow$ *Download as* $\\rightarrow$ *Notebook* )<br>\n",
    "Hacer esto con el cuaderno **tal y como haya quedado al terminar la ejecución**\n",
    "2. Subirlo al aula virtual, en la pestaña *Evaluación*, en la tarea *Reto 1: Ingeniería de características*"
   ]
  }
 ],
 "metadata": {
  "kernelspec": {
   "display_name": "Python 3",
   "language": "python",
   "name": "python3"
  },
  "language_info": {
   "codemirror_mode": {
    "name": "ipython",
    "version": 3
   },
   "file_extension": ".py",
   "mimetype": "text/x-python",
   "name": "python",
   "nbconvert_exporter": "python",
   "pygments_lexer": "ipython3",
   "version": "3.8.2"
  }
 },
 "nbformat": 4,
 "nbformat_minor": 2
}
